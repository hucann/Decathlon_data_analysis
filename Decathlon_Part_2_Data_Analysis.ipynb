{
 "cells": [
  {
   "cell_type": "markdown",
   "metadata": {},
   "source": [
    "# Data Preparation"
   ]
  },
  {
   "cell_type": "code",
   "execution_count": 1,
   "metadata": {},
   "outputs": [],
   "source": [
    "# Import library\n",
    "import pandas as pd"
   ]
  },
  {
   "cell_type": "code",
   "execution_count": null,
   "metadata": {},
   "outputs": [],
   "source": [
    "# Load the dataset\n",
    "data = pd.read_csv(\"Recruitment_Transactions_ToBeDistributed.csv\")"
   ]
  },
  {
   "cell_type": "code",
   "execution_count": 3,
   "metadata": {},
   "outputs": [
    {
     "data": {
      "text/html": [
       "<div>\n",
       "<style scoped>\n",
       "    .dataframe tbody tr th:only-of-type {\n",
       "        vertical-align: middle;\n",
       "    }\n",
       "\n",
       "    .dataframe tbody tr th {\n",
       "        vertical-align: top;\n",
       "    }\n",
       "\n",
       "    .dataframe thead th {\n",
       "        text-align: right;\n",
       "    }\n",
       "</style>\n",
       "<table border=\"1\" class=\"dataframe\">\n",
       "  <thead>\n",
       "    <tr style=\"text-align: right;\">\n",
       "      <th></th>\n",
       "      <th>Unnamed: 0</th>\n",
       "      <th>the_transaction_id</th>\n",
       "      <th>the_date_transaction</th>\n",
       "      <th>sku_idr_sku</th>\n",
       "      <th>product_type</th>\n",
       "      <th>sports</th>\n",
       "      <th>but_name_business_unit</th>\n",
       "      <th>ctm_customer_id</th>\n",
       "      <th>the_to_type</th>\n",
       "      <th>f_qty_item</th>\n",
       "      <th>f_to_tax_in</th>\n",
       "    </tr>\n",
       "  </thead>\n",
       "  <tbody>\n",
       "    <tr>\n",
       "      <th>0</th>\n",
       "      <td>1</td>\n",
       "      <td>7-1034-1034-20200708214026-101-8628</td>\n",
       "      <td>2020-07-08 21:40:26</td>\n",
       "      <td>0</td>\n",
       "      <td>NaN</td>\n",
       "      <td>NaN</td>\n",
       "      <td>City Square SG</td>\n",
       "      <td>NaN</td>\n",
       "      <td>offline</td>\n",
       "      <td>0</td>\n",
       "      <td>0.0</td>\n",
       "    </tr>\n",
       "    <tr>\n",
       "      <th>1</th>\n",
       "      <td>2</td>\n",
       "      <td>7-1034-1034-20200708164857-211-1734</td>\n",
       "      <td>2020-07-08 16:48:57</td>\n",
       "      <td>0</td>\n",
       "      <td>NaN</td>\n",
       "      <td>NaN</td>\n",
       "      <td>City Square SG</td>\n",
       "      <td>NaN</td>\n",
       "      <td>offline</td>\n",
       "      <td>0</td>\n",
       "      <td>0.0</td>\n",
       "    </tr>\n",
       "    <tr>\n",
       "      <th>2</th>\n",
       "      <td>3</td>\n",
       "      <td>7-1034-1034-20200701155410-102-6163</td>\n",
       "      <td>2020-07-01 15:54:10</td>\n",
       "      <td>0</td>\n",
       "      <td>NaN</td>\n",
       "      <td>NaN</td>\n",
       "      <td>City Square SG</td>\n",
       "      <td>NaN</td>\n",
       "      <td>offline</td>\n",
       "      <td>0</td>\n",
       "      <td>0.0</td>\n",
       "    </tr>\n",
       "    <tr>\n",
       "      <th>3</th>\n",
       "      <td>4</td>\n",
       "      <td>7-1034-1034-20200713202706-102-7516</td>\n",
       "      <td>2020-07-13 20:27:06</td>\n",
       "      <td>0</td>\n",
       "      <td>NaN</td>\n",
       "      <td>NaN</td>\n",
       "      <td>City Square SG</td>\n",
       "      <td>NaN</td>\n",
       "      <td>offline</td>\n",
       "      <td>0</td>\n",
       "      <td>0.0</td>\n",
       "    </tr>\n",
       "    <tr>\n",
       "      <th>4</th>\n",
       "      <td>5</td>\n",
       "      <td>7-1034-1034-20200727160812-211-4800</td>\n",
       "      <td>2020-07-27 16:08:12</td>\n",
       "      <td>0</td>\n",
       "      <td>NaN</td>\n",
       "      <td>NaN</td>\n",
       "      <td>City Square SG</td>\n",
       "      <td>NaN</td>\n",
       "      <td>offline</td>\n",
       "      <td>0</td>\n",
       "      <td>0.0</td>\n",
       "    </tr>\n",
       "  </tbody>\n",
       "</table>\n",
       "</div>"
      ],
      "text/plain": [
       "   Unnamed: 0                   the_transaction_id the_date_transaction  \\\n",
       "0           1  7-1034-1034-20200708214026-101-8628  2020-07-08 21:40:26   \n",
       "1           2  7-1034-1034-20200708164857-211-1734  2020-07-08 16:48:57   \n",
       "2           3  7-1034-1034-20200701155410-102-6163  2020-07-01 15:54:10   \n",
       "3           4  7-1034-1034-20200713202706-102-7516  2020-07-13 20:27:06   \n",
       "4           5  7-1034-1034-20200727160812-211-4800  2020-07-27 16:08:12   \n",
       "\n",
       "   sku_idr_sku product_type sports but_name_business_unit ctm_customer_id  \\\n",
       "0            0          NaN    NaN         City Square SG             NaN   \n",
       "1            0          NaN    NaN         City Square SG             NaN   \n",
       "2            0          NaN    NaN         City Square SG             NaN   \n",
       "3            0          NaN    NaN         City Square SG             NaN   \n",
       "4            0          NaN    NaN         City Square SG             NaN   \n",
       "\n",
       "  the_to_type  f_qty_item  f_to_tax_in  \n",
       "0     offline           0          0.0  \n",
       "1     offline           0          0.0  \n",
       "2     offline           0          0.0  \n",
       "3     offline           0          0.0  \n",
       "4     offline           0          0.0  "
      ]
     },
     "execution_count": 3,
     "metadata": {},
     "output_type": "execute_result"
    }
   ],
   "source": [
    "# Display the first few rows of the dataset\n",
    "data.head()"
   ]
  },
  {
   "cell_type": "code",
   "execution_count": 7,
   "metadata": {},
   "outputs": [
    {
     "name": "stdout",
     "output_type": "stream",
     "text": [
      "<class 'pandas.core.frame.DataFrame'>\n",
      "RangeIndex: 5496751 entries, 0 to 5496750\n",
      "Data columns (total 11 columns):\n",
      " #   Column                  Dtype  \n",
      "---  ------                  -----  \n",
      " 0   Unnamed: 0              int64  \n",
      " 1   the_transaction_id      object \n",
      " 2   the_date_transaction    object \n",
      " 3   sku_idr_sku             int64  \n",
      " 4   product_type            object \n",
      " 5   sports                  object \n",
      " 6   but_name_business_unit  object \n",
      " 7   ctm_customer_id         object \n",
      " 8   the_to_type             object \n",
      " 9   f_qty_item              int64  \n",
      " 10  f_to_tax_in             float64\n",
      "dtypes: float64(1), int64(3), object(7)\n",
      "memory usage: 461.3+ MB\n"
     ]
    }
   ],
   "source": [
    "# Display data types of each column\n",
    "data.info()"
   ]
  },
  {
   "cell_type": "code",
   "execution_count": 8,
   "metadata": {},
   "outputs": [
    {
     "data": {
      "text/plain": [
       "(5496751, 11)"
      ]
     },
     "execution_count": 8,
     "metadata": {},
     "output_type": "execute_result"
    }
   ],
   "source": [
    "# Display dimensions of the dataset\n",
    "data.shape"
   ]
  },
  {
   "cell_type": "code",
   "execution_count": 9,
   "metadata": {},
   "outputs": [
    {
     "data": {
      "text/plain": [
       "Unnamed: 0                      0\n",
       "the_transaction_id              0\n",
       "the_date_transaction            0\n",
       "sku_idr_sku                     0\n",
       "product_type                  878\n",
       "sports                        656\n",
       "but_name_business_unit          0\n",
       "ctm_customer_id           2059281\n",
       "the_to_type                     0\n",
       "f_qty_item                      0\n",
       "f_to_tax_in                     0\n",
       "dtype: int64"
      ]
     },
     "execution_count": 9,
     "metadata": {},
     "output_type": "execute_result"
    }
   ],
   "source": [
    "# Check for missing values\n",
    "data.isna().sum()"
   ]
  },
  {
   "cell_type": "code",
   "execution_count": 10,
   "metadata": {},
   "outputs": [
    {
     "data": {
      "text/html": [
       "<div>\n",
       "<style scoped>\n",
       "    .dataframe tbody tr th:only-of-type {\n",
       "        vertical-align: middle;\n",
       "    }\n",
       "\n",
       "    .dataframe tbody tr th {\n",
       "        vertical-align: top;\n",
       "    }\n",
       "\n",
       "    .dataframe thead th {\n",
       "        text-align: right;\n",
       "    }\n",
       "</style>\n",
       "<table border=\"1\" class=\"dataframe\">\n",
       "  <thead>\n",
       "    <tr style=\"text-align: right;\">\n",
       "      <th></th>\n",
       "      <th>Unnamed: 0</th>\n",
       "      <th>sku_idr_sku</th>\n",
       "      <th>f_qty_item</th>\n",
       "      <th>f_to_tax_in</th>\n",
       "    </tr>\n",
       "  </thead>\n",
       "  <tbody>\n",
       "    <tr>\n",
       "      <th>count</th>\n",
       "      <td>5.496751e+06</td>\n",
       "      <td>5.496751e+06</td>\n",
       "      <td>5.496751e+06</td>\n",
       "      <td>5.496751e+06</td>\n",
       "    </tr>\n",
       "    <tr>\n",
       "      <th>mean</th>\n",
       "      <td>2.748376e+06</td>\n",
       "      <td>5.803890e+06</td>\n",
       "      <td>2.979526e+00</td>\n",
       "      <td>6.196055e+01</td>\n",
       "    </tr>\n",
       "    <tr>\n",
       "      <th>std</th>\n",
       "      <td>1.586775e+06</td>\n",
       "      <td>2.466495e+06</td>\n",
       "      <td>1.518516e+00</td>\n",
       "      <td>5.752038e+01</td>\n",
       "    </tr>\n",
       "    <tr>\n",
       "      <th>min</th>\n",
       "      <td>1.000000e+00</td>\n",
       "      <td>0.000000e+00</td>\n",
       "      <td>0.000000e+00</td>\n",
       "      <td>0.000000e+00</td>\n",
       "    </tr>\n",
       "    <tr>\n",
       "      <th>25%</th>\n",
       "      <td>1.374188e+06</td>\n",
       "      <td>2.500415e+06</td>\n",
       "      <td>2.000000e+00</td>\n",
       "      <td>2.400000e+01</td>\n",
       "    </tr>\n",
       "    <tr>\n",
       "      <th>50%</th>\n",
       "      <td>2.748376e+06</td>\n",
       "      <td>7.204275e+06</td>\n",
       "      <td>3.000000e+00</td>\n",
       "      <td>4.000000e+01</td>\n",
       "    </tr>\n",
       "    <tr>\n",
       "      <th>75%</th>\n",
       "      <td>4.122564e+06</td>\n",
       "      <td>7.328256e+06</td>\n",
       "      <td>4.000000e+00</td>\n",
       "      <td>8.550000e+01</td>\n",
       "    </tr>\n",
       "    <tr>\n",
       "      <th>max</th>\n",
       "      <td>5.496751e+06</td>\n",
       "      <td>7.542224e+06</td>\n",
       "      <td>5.010000e+02</td>\n",
       "      <td>4.318000e+03</td>\n",
       "    </tr>\n",
       "  </tbody>\n",
       "</table>\n",
       "</div>"
      ],
      "text/plain": [
       "         Unnamed: 0   sku_idr_sku    f_qty_item   f_to_tax_in\n",
       "count  5.496751e+06  5.496751e+06  5.496751e+06  5.496751e+06\n",
       "mean   2.748376e+06  5.803890e+06  2.979526e+00  6.196055e+01\n",
       "std    1.586775e+06  2.466495e+06  1.518516e+00  5.752038e+01\n",
       "min    1.000000e+00  0.000000e+00  0.000000e+00  0.000000e+00\n",
       "25%    1.374188e+06  2.500415e+06  2.000000e+00  2.400000e+01\n",
       "50%    2.748376e+06  7.204275e+06  3.000000e+00  4.000000e+01\n",
       "75%    4.122564e+06  7.328256e+06  4.000000e+00  8.550000e+01\n",
       "max    5.496751e+06  7.542224e+06  5.010000e+02  4.318000e+03"
      ]
     },
     "execution_count": 10,
     "metadata": {},
     "output_type": "execute_result"
    }
   ],
   "source": [
    "# Summary statistics of numerical columns\n",
    "data.describe()"
   ]
  },
  {
   "cell_type": "code",
   "execution_count": 11,
   "metadata": {},
   "outputs": [
    {
     "name": "stdout",
     "output_type": "stream",
     "text": [
      "the_transaction_id: ['7-1034-1034-20200708214026-101-8628'\n",
      " '7-1034-1034-20200708164857-211-1734'\n",
      " '7-1034-1034-20200701155410-102-6163' ...\n",
      " '7-969-969-20201225203144-212-4226' '7-969-969-20201230153254-211-8943'\n",
      " '7-969-969-20201230184807-207-5820']\n",
      "the_date_transaction: ['2020-07-08 21:40:26' '2020-07-08 16:48:57' '2020-07-01 15:54:10' ...\n",
      " '2020-12-24 14:12:16' '2020-12-30 15:32:54' '2020-12-30 18:48:07']\n",
      "product_type: [nan 'UNDEFINED' 'SHOES' 'WATER BAG' 'SUNGLASSES' 'WATER BOTTLE' 'SHORTS'\n",
      " 'SKORT' 'WATER BOTTLE BE' 'CAP' 'RUNNING MID TIG' 'RUNNING LONG TI'\n",
      " 'T-SHIRT' 'WATER POUCH' 'GAITERS' 'CUP' 'HEADLAMP' 'WINDBREAKER'\n",
      " 'LONG-SLEEVED T-' 'RUNNING 3/4 TIG' 'SKIRT' 'QUIVER' 'TANK'\n",
      " 'CLIMBING SLIPPE' 'CLIMBING CHALK' 'SNAP HOOK' 'HARNESS' 'BRUSH'\n",
      " 'TROUSERS' 'QUICKDRAW' 'CLIMBING ACCESS' 'MITTENS' 'CHALK BAG' 'SLIPPERS'\n",
      " 'BACKPACK' 'CLIMBING LANYAR' 'GLOVES' 'CLIMBING ROPE' 'HELMET' 'LEGGINGS'\n",
      " 'SLACKLINE' 'SPORTS BAG' 'BELAY GLASSES' 'BELAY DEVICE' 'CLIMBING HOLD'\n",
      " 'SLING' 'BERMUDA SHORTS' 'VIA FERRATA LAN' 'YOGA MAT' 'YOGA BLOCK'\n",
      " 'MAT CLEANER' 'NON SLIP TOWEL' 'SPORTS BRA' 'CROPPED LEGGING'\n",
      " 'STORAGE COVER' 'SOCKS' 'QUICKDRAW SLING' 'PAD' 'CLAMPING STRAP' 'PILLOW'\n",
      " 'BOLSTER' 'KITE' 'HANDLE' 'REPAIR KIT' 'BOARDBAG' 'HAND PUMP'\n",
      " 'NET TABLE TENNI' 'TABLE TENNIS BA' 'BLADE CLEANER' 'TABLE TENNIS TA'\n",
      " 'PROTECTION' 'BASKET BALL' 'BASKETBALL NET' 'KNEE SUPPORT' 'TIGHTS'\n",
      " 'WRIST SUPPORT' 'NET' 'ANKLE BRACE SUP' 'ELBOW SUPPORT' 'KINESIOLOGY TAP'\n",
      " 'LUMBAR BELT' 'SLEEVELESS T-SH' 'FINGER SUPPORT' 'SUPPORT STRIP'\n",
      " 'THUMB SUPPORT' 'SHOULDER BRACE' 'ELBOW GUARD' 'BASE LAYER'\n",
      " 'CALF SUPPORT' 'KNEE PAD' 'NETBALL BALL' 'HEADBAND' 'HOOP'\n",
      " 'THIGH BRACE SUP' 'COACHING FOLDER' 'UNDERSHORTS' 'BINDING' 'BAG'\n",
      " 'BIKINI BOTTOM' 'BIKINI TOP' 'BOARDSHORTS' 'SURF SHORTY WET' 'TOP'\n",
      " 'FLIP-FLOPS' '1-PIECE SWIMSUI' 'FLYING DISC' 'BOOMERANG' 'HAT'\n",
      " 'CHANGING ROBE' 'BIKINI' 'TOWEL' 'WAX' 'SANDALS' '2 PIECES SWIMSU'\n",
      " 'BODY-BOARD' 'LEASH' 'SURFBOARD' 'SUIT' 'SURF WETSUIT' 'SKIMBOARD' 'FIN'\n",
      " 'BUOYANCY VEST' 'NEOPRENE TOP' 'WAKEBOARD' 'PARASOL' 'RUGBY BALL'\n",
      " 'COMPRESSION SUP' 'SHORT-SLEEVE JE' 'MOUTHGUARD' 'RUGBY BOOTS'\n",
      " 'BODY ARMOUR' 'COLD PACK' 'SLEEVELESS JERS' 'ADHESIVE TAPE' 'ICE BAG'\n",
      " 'SET' 'TEE' 'RUGBY POLES' 'CARRY CASE' 'BOXING HAND WRA' 'BOXING GLOVES'\n",
      " 'BALL' 'INNER GLOVES' 'FOCUS PAD' 'SHINGUARD' 'SHIELD' 'GROIN GUARD'\n",
      " 'GRAPPLING GLOVE' 'PUNCH BAG' 'GLOVE DRYER' 'ELASTIC TRAININ'\n",
      " 'BAG SUPPORT' 'SHIN AND FOOT G' 'ANKLE BRACE' 'CRICKET BAT'\n",
      " 'LONG-SLEEVED SH' 'SHORT-SLEEVED P' 'BASEBALL BAT' 'BODY PROTECTOR'\n",
      " 'SLEEVE' 'GRIP' 'TIGHTENING CLAM' 'SERVICE' 'BRAKE' 'FOLDING SYSTEM'\n",
      " 'KAYAK' 'RIM STRIP' 'WORKSHOP PRODUC' 'WHEEL AXLE' 'WHEEL'\n",
      " 'INFLATABLE VALV' 'BLADDER' 'KAYAK FLOOR' 'FOAM PAD' 'HEART RATE MONI'\n",
      " 'BADMINTON RACKE' 'FEATHER SHUTTLE' 'PLASTIC SHUTTLE' 'BADMINTON NET'\n",
      " 'GRIP TAPE' 'RACKET STRINGIN' 'DRESS' 'WATERPROOF BAG' 'PADDLE'\n",
      " 'WATERTIGHT POCK' 'NEOPRENE BOOTIE' 'SEAT PAD' 'ELECTRIC PUMP'\n",
      " 'STAND UP PADDLE' 'WATERTIGHT BOX' 'KAYAK SPRAY SKI' 'WATERTIGHT CONT'\n",
      " 'SWIM TOP' 'BUOYANCY BELT' 'SWIMMING GLOVES' 'WEIGHT' 'SWIM BOTTOM'\n",
      " 'DUMBBELL' 'AQUASHOES' 'FOAM ROLLER' 'HANDGRIP' 'BALANCE BOARD'\n",
      " 'WEIGHT PLATE' 'BARBELL PAD' 'LIFTING STRAP' 'ELASTIC' 'MASSAGE BALL'\n",
      " 'SHAKER' 'PUSH UP BAR' 'DUMBBELLS KIT' 'KETTLEBELL' 'WEIGHT LOCK'\n",
      " 'GYMNASTICS GRIP' 'TRACTION BAR' 'GLIDING DISC' 'WEIGHTED VEST'\n",
      " 'SKIPPING ROPE' 'WEIGHTED BELT' 'BAR' 'ELASTIC BAND' 'ANKLE STRAP' 'RING'\n",
      " 'SHORT-SLEEVED S' 'SUSPENSION STRA' 'DIPS STATION' 'ROPE' 'PRESS BENCH'\n",
      " 'ABDOMINAL WHEEL' 'KIT' 'FITNESS TOWER' 'WEIGHTLIFTING BUMPER DISC'\n",
      " 'SQUAT RACK' 'MEDICINE BALL' 'PLYO BOX' 'WEIGHTLIFTING BAR'\n",
      " 'WEIGHT TRAINING' 'MULTI-FUNCTION' 'HOME GYM' 'TRICEPS ROPE'\n",
      " 'FITNESS MAT' 'BAR RACK' 'FLASH LIGHT' 'ARM GUARD' 'WATCH' 'EARPHONE'\n",
      " 'CALF COMPRESSIO' 'SHOE BAG' 'DYNAMO LIGHT' 'GPS' 'POUCH' 'LAMP' 'BELT'\n",
      " 'STRAP' 'JACKET' 'RUNNING SHORT T' 'MP3 PLAYER' 'CHEST LAMP'\n",
      " 'REFLECTIVE ARMB' 'STOPWATCH' 'TRACK SHOES' 'SPIKE WRENCH' 'JERSEY'\n",
      " 'ATHLETICS SPIKE' 'HOCKEY STICK' 'HOCKEY GLOVE' 'SHAMMY' 'INNER TUBE'\n",
      " 'SEAT POST CLAMP' 'LUBRICANT' 'STEM' 'MULTI-TOOL' 'BRAKE PADS' 'STEM CAP'\n",
      " 'DERAILLEUR CABL' 'SADDLE COVER' 'BIKE SADDLE' 'TOOLBOX' 'BRAKE LEVER'\n",
      " 'TYRE LEVER' 'CYCLE RACK' 'BIKE RACK' 'CHAIN' 'BRAKE PAD'\n",
      " 'BRAKE CABLE END' 'QUICK RELEASE C' 'GEAR SHIFTER' 'BRAKE CABLE'\n",
      " 'FRAME PROTECTIO' 'GUIDE PIPE AND' 'DERAILLEUR HOSE' 'CABLE END CAP'\n",
      " 'WORKSHOP STAND' 'HANDLEBAR CAP' 'TOOL CASE' 'SEATPOST' 'TRANSPORT COVER'\n",
      " 'DEGREASER' 'CHAIN TOOL' 'CABLE AND HOUSI' 'FREE WHEEL' 'BAR ENDS'\n",
      " 'DERAILER PROTEC' 'CASSETTE' 'BRAKE CALLIPER' 'BRAKE CABLE AND'\n",
      " 'DERAILLEUR' 'SPACER' 'CHAINSET GUARD' 'BRAKE DISC' 'HANDLEBAR'\n",
      " 'LUBRICATING GRE' 'BIKE HOOK' 'BRAKE KIT' 'BOTTOM BRACKET' 'CHAINSET'\n",
      " 'DERAILLEUR STEM' 'CUSTOMISATION K' 'BIKE CLEANER' 'GOAL' 'SUN HAT'\n",
      " 'SHORT WELLIES' 'BINOCULARS' 'BINOCULAR HARNESS' 'WELLIES' 'KNIFE'\n",
      " 'TRIPOD' 'TELESCOPE.' 'BEACH TENNIS NE' 'BEACH TENNIS RA'\n",
      " 'HOCKEY STICK BA' 'ICE SKATE' 'SKATE GUARDS' 'VOLLEY BALL'\n",
      " 'NET VOLLEYBALL' 'NEOPRENE WETSUI' 'BOTTLE CAGE' '3/4 CYCLING BIB'\n",
      " 'SADDLE BAG' 'METER MAGNET' 'PADDED CYCLING' 'ROAD BIKE'\n",
      " 'BOTTLE CAGE BOL' 'BEANIE' 'CLIP ON AEROBAR' 'BIKE COMPUTER'\n",
      " 'HANDLEBAR TAPE' 'PEDAL CLEATS' 'PEDAL' 'WHEEL RISER BLO'\n",
      " 'SMARTPHONE BRACKET HOLDER' 'WATCH BRACKET HOLDER' 'BIB SHORTS'\n",
      " 'BINDINGS MODULE' 'TRIATHLON SUIT' 'HANDLEBAR BAG' 'ADAPTOR' 'TYRE'\n",
      " 'TURBO TRAINER' 'FOAM MAT' 'RAIN JACKET' 'FRAME BAG' 'TRANSITION BAG'\n",
      " 'CYCLING TIGHTS' 'SKATEBOARD' 'CRUISER SKATE' 'LONGBOARD SKATE'\n",
      " 'WAVE BOARD' 'DECK' 'TRUCK' 'SCREWS' 'CUSHION' 'PAD-SKATE' 'PILATES MAT'\n",
      " 'LEGGING 7/8' 'SOFT BALL' 'TONING HANDLE' 'BOXERS' 'PUMP'\n",
      " 'REHABILITATION' 'BALANCE DISC' 'ABS EQUIPMENT' 'WEIGHTED BALL'\n",
      " 'ALIGNEMENT STIC' 'SWEATSHIRT' 'SWISS BALL' 'GYM BALL BASE'\n",
      " 'KICK SCOOTER CO' 'SCOOTER' 'STORAGE RACK' 'STICKER' 'PEGS'\n",
      " \"KID'S SCOOTER S\" 'BRA' 'STEPPER' 'TRAMPOLINE' 'SCRUNCHY' 'TREADMILL'\n",
      " 'BOTTLE HOLDER' 'STEP' 'EXERCISE BIKE' 'CROSS TRAINER' 'STUDIO BIKE'\n",
      " 'ROWING MACHINE' 'LIFE JACKET' 'BASELAYER BOTTO' 'BOAT ROPES' 'VISOR'\n",
      " 'SQUASH BALL' 'SQUASH RACKET' 'SAFETY GLASSES' 'HALF-POINT' 'BUN KIT'\n",
      " 'LEOTARD' 'WRAP-AROUND TOP' 'SKIRT LEOTARD' 'HIKING POLE' 'RAIN CAPE'\n",
      " 'SLEEVELESS JACK' 'BATTERY' 'BAG COVER' 'TORCH' 'BLISTER PROTECT'\n",
      " 'PADLOCK' 'SURVIVAL BLANKE' 'TRAVEL PILLOW' 'GLOVE LINER' 'LACES'\n",
      " 'CUTLERY' 'CHEST STRAP' 'POLES PADS' 'SLEEPING BAG' 'MATTRESS'\n",
      " 'MOSQUITO NET' 'TRAVEL BAG' 'POWER BANK' 'FASTENING BUCKL' 'TARP'\n",
      " 'CHARGER' 'WASH BAG' 'TENT' 'DOWN JACKET' 'PADDED JACKET' 'COOKSET'\n",
      " 'OVERTROUSERS' 'WINDSHIELD' 'TENT PEGS' 'POLE BASKETS' 'SLEEPING BAG LI'\n",
      " 'SOFTSHELL' 'LONGJOHNS' 'MONEY BELT' 'FIRST-AID KIT' 'GROUNDSHEET'\n",
      " 'TENT CORD' 'TENT POLES' 'AMERICAN FOOT B' 'BASEBALL' 'BAIT PUMP'\n",
      " 'FLOOR PUMP' 'KEEP NET ARM' 'STAND' 'DOODAD STRAPS' 'HAND PUMP HOSE'\n",
      " \"BIKE PUMP'S HEA\" 'HYBRID BIKE' 'MUDGUARD' 'MOUNTAIN BIKE' 'KIMONO BELT'\n",
      " 'LONG-SLEEVED BA' 'NUNCHUKS' 'UNIFORM' 'DOBOK' 'FOOT PROTECTION' 'MASK'\n",
      " 'SNORKEL' 'MASK STRAP' 'COMPUTER COVER' 'SNORKELING SET'\n",
      " 'NEOPRENE SHORTY' 'NEOPRENE SUIT' 'SAFETY BUOYS DI' 'BOOTIES'\n",
      " 'CORRECTIVE LENS' 'BALACLAVA' 'OCTOPUS HOLDER' 'SNORKELING BUOY'\n",
      " 'OBSERVATION BUO' 'LIGHTING ACCESS' 'WINDER' 'DIVING REGULATO' 'COMPASS'\n",
      " 'UNDERWATER SLAT' 'BUOYANCY COMPEN' 'HOOK KNIFE' 'SNORKEL ATTACHM'\n",
      " 'CAMERA MOUNT' 'WEIGHT BELT' 'WRIST LOOP' 'FIN STRAP' 'DIVING MOUTHPIECE'\n",
      " 'ELEVATED PRESSU' 'MANOMETER' 'OCTOPUS' 'SMARTPHONE HOLDER'\n",
      " 'BOXER SHORTS' 'BRIEFS' 'CROPPED TROUSER' 'INSOLES' 'WASH NET'\n",
      " 'BRA EXTENDER' 'CYCLING SHORTS' 'WATER BAG NOZZL' 'TOE-CLIP' 'SNOW BOOTS'\n",
      " 'WATER POLO BALL' 'SWIMSUIT' 'WATER POLO CAP' 'PROTECTIVE COVE'\n",
      " 'PULLOVER' 'TEE BAG' 'GOLF BALL' 'UMBRELLA' 'IRON HEAD COVER'\n",
      " 'PUTTING SET' 'GOLF CHIPPER' 'SLEEVELESS POLO' 'BALL STENCIL'\n",
      " 'GOLF SHOES' 'GOLF BAG' 'ALIGNMENT STICK' 'PUTTER HEAD COV'\n",
      " 'GOLF SINGLE IRO' 'PUTTER' 'BALL MARKER' 'DIVOT TOOL' 'PUTTING MAT'\n",
      " 'BALL COLLECTOR' 'SCORER' 'CHIPPING NET' 'DRIVER' 'TROLLEY'\n",
      " 'PRACTICE MAT' 'RANGEFINDER' 'GOLF SET' 'BALL RETRIEVER'\n",
      " 'HYBRID GOLF CLU' 'PRACTICE NET' 'WEDGE' 'DRIVER HEAD COV' 'SET OF IRONS'\n",
      " 'FAIRWAY WOODS' 'BASKET' 'FOLDING BIKE' 'SAFETY VEST' 'TROUSER CLIP'\n",
      " 'LUGGAGE RACK' 'PEANUT BALL' 'JUMPING BALL' 'SHORT UNITARD' 'TAPE'\n",
      " 'RG CLUB' 'TUNNEL' 'TEE-SHIRT ML' 'GYM MAT' 'PROTECTION KIT'\n",
      " 'INLINE SKATES' 'BEARING' 'CONE' 'WRIST GUARD' 'GIFT CARD' 'TENNIS BALL'\n",
      " 'TENNIS RACKET' 'WRIST' 'MAST' 'ANTI-VIBRATION' 'SPEEDBALL BALL'\n",
      " 'SPEEDBALL RACKE' 'RACKET SPORT BA' 'TENNIS TRAINER' 'BALL NET'\n",
      " 'DEODORANT' 'TENNIS NET' 'TUBE PICKUP' 'BALL BASKET' 'SWIM CAP'\n",
      " 'SWIMMING GOGGLE' 'ANTI-FOGGING' 'LEGSUIT' 'BABY SEAT SWIN' 'KICK BOARD'\n",
      " 'SWIMMING ARMBAND' 'SWIM RING' 'EARPLUG' 'NOSE PLUG' 'SWIM NOODLE'\n",
      " 'FULL BODY SWIMS' 'PULL BUOY' 'SHOWER SHAMPOO'\n",
      " 'DISPOSABLE SWIMMING PANTIES' 'SWIMMING PADDLE' 'SWIM SHORTS'\n",
      " 'SWIM FLOAT BELT' 'SHOWER GEL' 'SWIMMING POOL D' 'SWIM VEST'\n",
      " 'BABY AQUATIC CA' 'CLOGS' 'POOL' 'SWIMMING BUOY' 'JAMMER' 'HAND MASSAGER'\n",
      " 'CEREAL BAR' 'DRINK' 'ENERGY GEL' 'MASSAGE STICK' 'HOT / COLD PACK'\n",
      " 'ANTI-CHAFING CR' 'MASSAGE GEL' 'COMPRESSION SOC' 'SUNSCREEN'\n",
      " 'AFTER SUN LOTIO' 'CAMPING TABLE' 'STOOL' 'FOLDING CHAIR'\n",
      " 'ISOTHERMAL BOTT' 'HEEL PAD' 'FLEECE' 'GLASSES STRAP' 'ISOTHERMAL CASE'\n",
      " 'GLASSES CLIP' 'PLATE' 'BOWL' 'GLASSES CASE' 'KETTLE' 'MAGNIFYING GLAS'\n",
      " 'MONOCULAR' 'MULTIFUNCTION K' 'FIT OVER SUNGLA' 'CLEANSING WIPE'\n",
      " 'FOOD JAR' 'BOTTLE CAP' 'CAMP STOVE' 'DESCRIPTION HOL' 'ORIENTEERING CO'\n",
      " 'LOCK' 'BELL' 'BIKE LIGHT' 'BIKE PANNIER' 'CHILD BIKE SEAT'\n",
      " 'REARVIEW MIRROR' 'BABY SEAT MOUNT' 'URBAN CLASSIC BIKE' 'REFLECTOR'\n",
      " 'BABY CARRIER' 'TOURING BIKE' 'HAND/FOOT-WARME' 'SKI GOGGLES' 'SCARF'\n",
      " 'CRAMPON ANTIBAL' 'RUG' 'HAMMOCK' 'BLANKET' 'CHAIR' 'LANTERN' 'SHOVEL'\n",
      " 'SHELTER' 'COOLER BOX' 'FREEZER PACK' 'JERRYCAN' 'LUNCHBOX' 'CAMP BED'\n",
      " 'STOW POCKET' 'POLE SECTION' 'FOOD BOX' 'SHOWER CABIN' 'SELF-INFLATING'\n",
      " 'SHOWER' 'TENT POLE ELAST' 'MALLET' 'WINDBREAK' 'WASHING-UP BOWL'\n",
      " 'REPAIR TAPE' 'MATTRESS CAP' 'DARTBOARD' 'LEG PADDS' 'ARROW' 'BOW' 'DART'\n",
      " 'DARTS FEATHER' 'BOULES CIRCLE' 'TARGET' 'DART TIP' 'DART SHAFT' 'BOULE'\n",
      " 'JACK' 'DARTBOARD SURRO' 'TARGET FACE' 'BOW STRING' 'PALLET' 'ARROW NOCK'\n",
      " 'BOW SIGHT' 'ARROW REST' 'BOW STABILISER' 'SKITTLES' 'ARROW PULLER'\n",
      " 'FLIP CHART' 'BERGER BUTTON' 'CUE TIPS' 'CUE' 'SKI PANTS' 'FOOT BALL'\n",
      " 'KEEPY UPPY TRAINER' 'CLEATED SHOES' 'FOOTBALL BOOTS' 'FUTSAL SHOES'\n",
      " 'BALL NEEDLE' 'TRAINING LADDER' 'REFEREE CARD' 'WHISTLE CORD'\n",
      " 'SPEED HURDLE' 'GOALKEEPER GLOV' 'WHISTLE' 'FIVE A SIDE FOO'\n",
      " \"CAPTAIN'S ARMBA\" 'MARKER' 'BIB' 'FIELD MARKERS' 'BOTTLE RACK'\n",
      " 'JUGGLING BALLS' 'BREECHES' 'GROOMING BAG' 'JODHPUR BOOTS' 'RIDING BOOTS'\n",
      " 'HOOF PICK' 'HELMET CASE' 'HALF CHAPS' 'WHIP' 'SADDLE PAD'\n",
      " 'OVER REACH BOOT' 'LEAD ROPE RING' 'CURRY COMB' 'BACK PROTECTION' 'COMB'\n",
      " 'HOOF BRUSH' 'STIRRUP LEATHER' 'POLO BANDAGES' 'BRIDLE' 'HALF PADS'\n",
      " 'BRUSHING BOOTS' 'GROOMING BOX' 'REINS' 'FETLOCK BOOTS' 'HEADCOLLAR'\n",
      " 'BITS' 'HORSE SADDLE' 'GIRTH' 'CHILD BIKE' 'BALANCE BIKE' 'PANNIER BAG'\n",
      " 'HORN' 'BIKE STABILISER' 'THREAD' 'PLIERS' 'SWIVEL' 'CLIP' 'LEAD'\n",
      " 'STORAGE BOX' 'HOOKS' 'HARDBAIT' 'MACKEREL FEATHE' 'REEL' 'SPINNER' 'ROD'\n",
      " 'KEEPNET' 'SOFTBAITS' 'SCISSORS' 'JIG HEAD' 'FLOAT' 'SWIVEL CLIP'\n",
      " 'LEADER' 'SURF CASTING SP' 'BRAID FISHING L' 'ROD POD' 'LINE ATTACHMENT'\n",
      " 'FLUOROCARBON FI' 'LURE' 'FEEDER' 'TIP' 'SCALE' 'PEDOMETER'\n",
      " 'WALKING POLES']\n"
     ]
    },
    {
     "name": "stdout",
     "output_type": "stream",
     "text": [
      "sports: [nan 'RUGBY' 'RUNNING' 'MOUNTAIN' 'YOGA' 'KITE' 'TABLE TENNIS' 'NETBALL'\n",
      " 'SURFING' 'TEAMSPORT' 'FIXT & FURNIT' 'BOXING' 'CRICKET'\n",
      " 'WORKSHOP AND SERVICES' 'BADMINTON' 'WATERSPORT' 'BODYBUILDING' 'CYCLING'\n",
      " 'HOCKEY' 'HANDBALL' 'HUNTING' 'TENNIS' 'URBAN' 'VOLLEYBALL' 'SKATEBOARD'\n",
      " 'PILATES' 'FITNESS' 'SAILING' 'SQUASH' 'DANCE' 'BASEBALL' 'SKI' 'GOLF'\n",
      " 'GYMNASTICS' 'SWIMMING' 'NUTRITION ' 'TARGET' 'FOOTBALL' 'HORSE RIDING'\n",
      " 'FISHING']\n",
      "but_name_business_unit: ['City Square SG' 'Joo Koon' 'Website' 'Decathlon Velocity'\n",
      " 'Decathlon Holland Village' 'Singapore Lab' 'Centre Point' 'SunPlaza'\n",
      " 'Waterway Point' 'Tampines Mall' 'Chinatown Point' 'Tiong Bahru Plaza'\n",
      " 'Bedok SG']\n",
      "ctm_customer_id: [nan 'VP6PDPPUUX' '556733IPSV' ... '5D2P5ZHEZK' '9QXUL6EOQU' '57AJ0HV5OL']\n",
      "the_to_type: ['offline' 'online']\n"
     ]
    }
   ],
   "source": [
    "# Check for unique values in categorical columns\n",
    "for column in data.select_dtypes(include='object').columns:\n",
    "    print(column + \":\", data[column].unique())"
   ]
  },
  {
   "cell_type": "code",
   "execution_count": 12,
   "metadata": {},
   "outputs": [
    {
     "name": "stdout",
     "output_type": "stream",
     "text": [
      "\n",
      "Range of numerical columns:\n",
      "Unnamed: 0: min = 1 , max = 5496751\n",
      "sku_idr_sku: min = 0 , max = 7542224\n",
      "f_qty_item: min = 0 , max = 501\n",
      "f_to_tax_in: min = 0.0 , max = 4318.0\n"
     ]
    }
   ],
   "source": [
    "# Check for range of numerical columns\n",
    "print(\"\\nRange of numerical columns:\")\n",
    "for column in data.select_dtypes(include='number').columns:\n",
    "    print(column + \": min =\", data[column].min(), \", max =\", data[column].max())"
   ]
  },
  {
   "cell_type": "markdown",
   "metadata": {},
   "source": [
    "# Data Preprocessing"
   ]
  },
  {
   "cell_type": "code",
   "execution_count": null,
   "metadata": {},
   "outputs": [],
   "source": [
    "# handle NA\n",
    "# data transformation\n",
    "# feature engineer: extract time from data\n",
    "# drop uncessary columns"
   ]
  },
  {
   "cell_type": "markdown",
   "metadata": {},
   "source": [
    "# Task A"
   ]
  },
  {
   "cell_type": "markdown",
   "metadata": {},
   "source": [
    "**Overall Approach:**\n",
    "1. Group the data by 'the_transaction_id' to aggregate transactions into baskets. Calculate the total quantity (f_qty_item) and total turnover (f_to_tax_in) for each basket.\n",
    "2. Determine membership status (is_member) for each basket \n",
    "3. Group the data by 'but_name_business_unit' (store) and membership status (is_member)\n",
    "4. Pivot the table to have member and non-member values in separate columns\n",
    "5. Present results in table & bar plot"
   ]
  },
  {
   "cell_type": "code",
   "execution_count": 21,
   "metadata": {},
   "outputs": [],
   "source": [
    "# Data Propocessing\n",
    "# Create a boolean column called 'is_member'  based on 'ctm_customer_id'\n",
    "data['is_member'] = ~data['ctm_customer_id'].isna()\n",
    "data['is_member'] = data['is_member'].astype(bool)\n",
    "\n",
    "# Extract relevant columns to save computation time\n",
    "task_A_data = data[['the_transaction_id', 'f_qty_item', 'f_to_tax_in', 'but_name_business_unit', 'is_member']].copy()"
   ]
  },
  {
   "cell_type": "code",
   "execution_count": 22,
   "metadata": {},
   "outputs": [],
   "source": [
    "# Step 1: Group the data by 'the_transaction_id' to aggregate transactions into baskets\n",
    "baskets = task_A_data.groupby('the_transaction_id').agg(\n",
    "    total_quantity=('f_qty_item', 'sum'),\n",
    "    total_turnover=('f_to_tax_in', 'sum')\n",
    ")"
   ]
  },
  {
   "cell_type": "code",
   "execution_count": 23,
   "metadata": {},
   "outputs": [],
   "source": [
    "# Step 2: Determine membership status (is_member) for each basket \n",
    "baskets = baskets.join(task_A_data.groupby('the_transaction_id')['is_member'].first())"
   ]
  },
  {
   "cell_type": "code",
   "execution_count": 24,
   "metadata": {},
   "outputs": [],
   "source": [
    "# Step 3: Group the data by 'but_name_business_unit' (store) and membership status (is_member)\n",
    "grouped_data = baskets.merge(task_A_data[['the_transaction_id', 'but_name_business_unit']], left_index=True, right_on='the_transaction_id')\n",
    "grouped_data = grouped_data.groupby(['but_name_business_unit', 'is_member']).agg(\n",
    "    average_basket_size=('total_quantity', 'mean'),\n",
    "    average_basket_value=('total_turnover', 'mean')\n",
    ").reset_index()"
   ]
  },
  {
   "cell_type": "code",
   "execution_count": 29,
   "metadata": {},
   "outputs": [],
   "source": [
    "# Step 4: Pivot the table to have member and non-member values in separate columns\n",
    "result = grouped_data.pivot(index='but_name_business_unit', columns='is_member', values=['average_basket_size', 'average_basket_value'])"
   ]
  },
  {
   "cell_type": "code",
   "execution_count": 30,
   "metadata": {},
   "outputs": [
    {
     "name": "stdout",
     "output_type": "stream",
     "text": [
      "                          average_basket_size            average_basket_value  \\\n",
      "is_member                               False      True                 False   \n",
      "but_name_business_unit                                                          \n",
      "Bedok SG                            22.677019  26.678029           448.103687   \n",
      "Centre Point                        23.182733  24.286312           367.738024   \n",
      "Chinatown Point                      7.907313  10.270708           165.126629   \n",
      "City Square SG                      22.383555  21.841733           414.295560   \n",
      "Decathlon Holland Village           10.566983  12.077799           225.704560   \n",
      "Decathlon Velocity                   9.602580  11.114479           193.586060   \n",
      "Joo Koon                            21.945644  27.728293           426.843741   \n",
      "Singapore Lab                       25.370352  28.416077           518.905073   \n",
      "SunPlaza                             9.136211  11.515809           188.996439   \n",
      "Tampines Mall                        9.609697  11.510646           190.666595   \n",
      "Tiong Bahru Plaza                    7.649466   9.018772           146.750468   \n",
      "Waterway Point                       7.934816  10.125589           166.498860   \n",
      "Website                            110.126225  22.061267          1231.353371   \n",
      "\n",
      "                                       \n",
      "is_member                       True   \n",
      "but_name_business_unit                 \n",
      "Bedok SG                   541.899876  \n",
      "Centre Point               453.147565  \n",
      "Chinatown Point            199.449852  \n",
      "City Square SG             431.587914  \n",
      "Decathlon Holland Village  259.412888  \n",
      "Decathlon Velocity         226.254948  \n",
      "Joo Koon                   540.999820  \n",
      "Singapore Lab              545.989484  \n",
      "SunPlaza                   241.295384  \n",
      "Tampines Mall              229.396687  \n",
      "Tiong Bahru Plaza          172.677864  \n",
      "Waterway Point             207.573211  \n",
      "Website                    407.190478  \n"
     ]
    }
   ],
   "source": [
    "# Step 5.1: Display the results in table\n",
    "print(result)"
   ]
  },
  {
   "cell_type": "code",
   "execution_count": 35,
   "metadata": {},
   "outputs": [
    {
     "data": {
      "image/png": "[encoded data removed]",
      "text/plain": [
       "<Figure size 1008x432 with 2 Axes>"
      ]
     },
     "metadata": {
      "needs_background": "light"
     },
     "output_type": "display_data"
    }
   ],
   "source": [
    "# Step 5.2: Display the results in bar plot for better visualisation and comparison\n",
    "\n",
    "import matplotlib.pyplot as plt\n",
    "\n",
    "# Rename the columns for clarity\n",
    "result.columns = ['average_basket_size_non_member','average_basket_size_member', 'average_basket_value_non_member', 'average_basket_value_member']\n",
    "\n",
    "# Define the figure and axes for the plots\n",
    "fig, axes = plt.subplots(nrows=1, ncols=2, figsize=(14, 6))\n",
    "\n",
    "# Plot for average basket size\n",
    "result[['average_basket_size_member', 'average_basket_size_non_member']].plot(kind='bar', ax=axes[0], color=['blue', 'orange'], edgecolor='black')\n",
    "axes[0].set_title('Average Basket Size by Store')\n",
    "axes[0].set_xlabel('Store')\n",
    "axes[0].set_ylabel('Average Basket Size')\n",
    "axes[0].legend(['Member', 'Non-Member'])\n",
    "\n",
    "# Plot for average basket value\n",
    "result[['average_basket_value_member', 'average_basket_value_non_member']].plot(kind='bar', ax=axes[1], color=['blue', 'orange'], edgecolor='black')\n",
    "axes[1].set_title('Average Basket Value by Store')\n",
    "axes[1].set_xlabel('Store')\n",
    "axes[1].set_ylabel('Average Basket Value')\n",
    "axes[1].legend(['Member', 'Non-Member'])\n",
    "\n",
    "# Adjust layout to prevent overlap\n",
    "plt.tight_layout()\n",
    "\n",
    "# Show the plots\n",
    "plt.show()\n"
   ]
  },
  {
   "cell_type": "markdown",
   "metadata": {},
   "source": [
    "**Analysis based on Task A**\n",
    "* **Compare between members & non-members:** \n",
    "    * Registered customers (members) generally purchase more than the non registered customers. \n",
    "    * The obersation holds true for all offline (in-store) purchasement. \n",
    "    * Interestingly, for online (website) purchasement, non registered customers purchased at a significantly larger averaged basket size and value than registered customers.\n",
    "* **Analysis of backet size:** \n",
    "    * Among non-members, the highest average basket size is observed at Website. This is significantly higher than any physical store, indicating potentially different purchasing behaviors or basket compositions for online transactions. \n",
    "    * For members, Singapore Lab, Joo Koon and Bedok SG have the highest average basket sizes. These stores attract members who tend to purchase a larger number of items per transaction.\n",
    "* **Analysis of backet value:** \n",
    "    * Similar to average basket size, the Website exhibits the highest average basket value for non-members. This suggests that non-members making online purchases tend to spend more per transaction compared to purchases made at physical stores.\n",
    "    * Among members,  Singapore Lab, Bedok SG and Joo Koon also have the highest average basket values. This indicates that members at these stores tend to make higher-value purchases compared to other stores.\n",
    "* **Store performance:** \n",
    "    * Singapore Lab, Bedok SG and Joo Koon stand out as top-performing stores in terms of both average basket size and average basket value for both members and non-members. This suggests that these stores may have effective marketing strategies, product assortments, or customer service initiatives that contribute to higher sales performance.\n",
    "    * Online transactions on the Website also demonstrate high average basket values, indicating the potential for effective upselling or cross-selling strategies in the online shopping experience.\n",
    "    "
   ]
  },
  {
   "cell_type": "markdown",
   "metadata": {},
   "source": [
    "# Task B"
   ]
  },
  {
   "cell_type": "code",
   "execution_count": 36,
   "metadata": {},
   "outputs": [],
   "source": [
    "# Extract relevant columns to save computation time\n",
    "task_B_data = data[['ctm_customer_id', 'but_name_business_unit', 'the_transaction_id']].copy()"
   ]
  },
  {
   "cell_type": "code",
   "execution_count": 37,
   "metadata": {},
   "outputs": [],
   "source": [
    "# Filter transactions made by members\n",
    "member_transactions = task_B_data.dropna(subset=['ctm_customer_id'])"
   ]
  },
  {
   "cell_type": "code",
   "execution_count": 38,
   "metadata": {},
   "outputs": [
    {
     "name": "stderr",
     "output_type": "stream",
     "text": [
      "C:\\Users\\hucan\\Anaconda3\\lib\\site-packages\\ipykernel_launcher.py:6: SettingWithCopyWarning: \n",
      "A value is trying to be set on a copy of a slice from a DataFrame.\n",
      "Try using .loc[row_indexer,col_indexer] = value instead\n",
      "\n",
      "See the caveats in the documentation: https://pandas.pydata.org/pandas-docs/stable/user_guide/indexing.html#returning-a-view-versus-a-copy\n",
      "  \n",
      "C:\\Users\\hucan\\Anaconda3\\lib\\site-packages\\pandas\\core\\indexing.py:670: SettingWithCopyWarning: \n",
      "A value is trying to be set on a copy of a slice from a DataFrame\n",
      "\n",
      "See the caveats in the documentation: https://pandas.pydata.org/pandas-docs/stable/user_guide/indexing.html#returning-a-view-versus-a-copy\n",
      "  self._setitem_with_indexer(indexer, value)\n",
      "C:\\Users\\hucan\\Anaconda3\\lib\\site-packages\\ipykernel_launcher.py:7: SettingWithCopyWarning: \n",
      "A value is trying to be set on a copy of a slice from a DataFrame\n",
      "\n",
      "See the caveats in the documentation: https://pandas.pydata.org/pandas-docs/stable/user_guide/indexing.html#returning-a-view-versus-a-copy\n",
      "  import sys\n",
      "C:\\Users\\hucan\\Anaconda3\\lib\\site-packages\\ipykernel_launcher.py:8: SettingWithCopyWarning: \n",
      "A value is trying to be set on a copy of a slice from a DataFrame\n",
      "\n",
      "See the caveats in the documentation: https://pandas.pydata.org/pandas-docs/stable/user_guide/indexing.html#returning-a-view-versus-a-copy\n",
      "  \n"
     ]
    }
   ],
   "source": [
    "# Define the channels\n",
    "experience_stores = ['City Square SG', 'Joo Koon', 'Singapore Lab', 'Centre Point', 'Bedok SG']\n",
    "online_channel = 'Website'\n",
    "\n",
    "# Determine the channel for each transaction\n",
    "member_transactions['channel'] = 'C&C stores'  # Default value\n",
    "member_transactions.loc[member_transactions['but_name_business_unit'].isin(experience_stores), 'channel'] = 'Experience Stores'\n",
    "member_transactions.loc[member_transactions['but_name_business_unit'] == online_channel, 'channel'] = 'Online'"
   ]
  },
  {
   "cell_type": "code",
   "execution_count": 40,
   "metadata": {},
   "outputs": [
    {
     "name": "stdout",
     "output_type": "stream",
     "text": [
      "\n",
      "Proportion of members who shopped at different combinations of channels:\n",
      "(Experience Stores,)                       52.519505\n",
      "(Online,)                                  17.250329\n",
      "(C&C stores,)                               9.148162\n",
      "(Experience Stores, Online)                 8.810409\n",
      "(C&C stores, Experience Stores)             7.015124\n",
      "(C&C stores, Experience Stores, Online)     2.822314\n",
      "(C&C stores, Online)                        2.434158\n",
      "Name: channel, dtype: float64\n"
     ]
    }
   ],
   "source": [
    "# Calculate the proportion of members who shopped at different combinations of channels\n",
    "channel_combinations = member_transactions.groupby('ctm_customer_id')['channel'].unique().apply(lambda x: tuple(sorted(x))).value_counts() / len(member_transactions['ctm_customer_id'].unique()) * 100\n",
    "\n",
    "# Print the results\n",
    "print(\"\\nProportion of members who shopped at different combinations of channels:\")\n",
    "print(channel_combinations)"
   ]
  },
  {
   "cell_type": "code",
   "execution_count": 45,
   "metadata": {},
   "outputs": [
    {
     "data": {
      "image/png": "[encoded data removed]",
      "text/plain": [
       "<Figure size 576x576 with 1 Axes>"
      ]
     },
     "metadata": {},
     "output_type": "display_data"
    }
   ],
   "source": [
    "import matplotlib.pyplot as plt\n",
    "\n",
    "# Prepare data\n",
    "labels = channel_combinations.index\n",
    "sizes = channel_combinations.values\n",
    "\n",
    "# Plot pie chart with percentage numbers\n",
    "plt.figure(figsize=(8, 8))\n",
    "patches, _, _ = plt.pie(sizes, startangle=140, autopct='%1.1f%%')\n",
    "plt.legend(patches, labels, loc=\"best\")\n",
    "plt.title('Channel Combinations for Members')\n",
    "\n",
    "# Show the pie chart\n",
    "plt.axis('equal')  # Equal aspect ratio ensures that pie is drawn as a circle\n",
    "plt.show()"
   ]
  },
  {
   "cell_type": "markdown",
   "metadata": {},
   "source": [
    "**Analysis based on Task B**\n",
    "* **Prevalence of Experience Stores:** The highest proportion of members (52.5%) shopped exclusively at Experience Stores. This suggests that Experience Stores play a significant role in attracting and retaining members. Businesses can leverage this information to focus on enhancing the experience at these physical locations to further engage members.\n",
    "* **Significance of Online Channel:** While Experience Stores have the highest proportion, the Online channel also accounts for a considerable proportion (17.3%) of member purchases. This highlights the importance of a robust online presence and e-commerce strategy. Businesses should invest in optimizing their online platforms to cater to the preferences of members who prefer the convenience of online shopping.\n",
    "* **Role of Click & Collect (C&C) Stores:** C&C stores contribute to member purchases, albeit to a lesser extent compared to Experience Stores and the Online channel. This indicates that while some members utilize the C&C option, it may not be as popular as other channels. Businesses could explore strategies to promote C&C services, such as offering incentives or streamlining the pickup process, to increase member engagement through this channel.\n",
    "* **Multi-Channel Shopping:** A notable proportion of members engage in multi-channel shopping, such as shopping at both Experience Stores and Online (8.8%) or across all channels (2.8%). This behavior underscores the importance of providing a seamless omni-channel experience. Businesses should ensure consistency across channels, such as unified pricing, promotions, and inventory management, to facilitate member satisfaction and loyalty."
   ]
  },
  {
   "cell_type": "markdown",
   "metadata": {},
   "source": [
    "# Part C"
   ]
  },
  {
   "cell_type": "markdown",
   "metadata": {},
   "source": [
    "**Assumptions**\n",
    "* Popularity of timing is evaluated based on the number of baskets in a time period.\n",
    "* Online and offline customer behavior may differ significantly, hence online and offline transactions are evaluated differently.\n",
    "* Assuming that the date when the item is ready to be shipped corresponds to the date of the online purchase is reasonable for simplifying the analysis. Nevertheless, I acknowledge that there may be some delay between the purchase and the item being ready to ship, especially in scenarios involving processing time or backorders."
   ]
  },
  {
   "cell_type": "code",
   "execution_count": 46,
   "metadata": {},
   "outputs": [],
   "source": [
    "# Convert 'the_date_transaction' column to datetime\n",
    "data['the_date_transaction'] = pd.to_datetime(data['the_date_transaction'])"
   ]
  },
  {
   "cell_type": "code",
   "execution_count": 58,
   "metadata": {},
   "outputs": [],
   "source": [
    "# Extract relevant columns to save computation time\n",
    "task_C_data = data[['the_date_transaction','the_to_type', 'the_transaction_id']].copy()"
   ]
  },
  {
   "cell_type": "code",
   "execution_count": 59,
   "metadata": {},
   "outputs": [],
   "source": [
    "# Separate online and offline transactions\n",
    "offline_transactions = task_C_data[task_C_data['the_to_type'] == 'offline']\n",
    "online_transactions = task_C_data[task_C_data['the_to_type'] == 'online']"
   ]
  },
  {
   "cell_type": "code",
   "execution_count": 60,
   "metadata": {},
   "outputs": [],
   "source": [
    "# Group by 'the_transaction_id' and calculate the earliest transaction time for each basket for offline transactions\n",
    "offline_basket_timing = offline_transactions.groupby('the_transaction_id')['the_date_transaction'].min()\n",
    "\n",
    "# Group by 'the_transaction_id' and calculate the earliest transaction time for each basket for online transactions\n",
    "online_basket_timing = online_transactions.groupby('the_transaction_id')['the_date_transaction'].min()"
   ]
  },
  {
   "cell_type": "code",
   "execution_count": 61,
   "metadata": {},
   "outputs": [],
   "source": [
    "# Extract hour of the day for offline basket timings\n",
    "offline_basket_timing_hour = offline_basket_timing.dt.hour\n",
    "\n",
    "# Extract hour of the day for online basket timings\n",
    "online_basket_timing_hour = online_basket_timing.dt.hour"
   ]
  },
  {
   "cell_type": "code",
   "execution_count": 62,
   "metadata": {},
   "outputs": [
    {
     "data": {
      "image/png": "[encoded data removed]",
      "text/plain": [
       "<Figure size 864x432 with 1 Axes>"
      ]
     },
     "metadata": {
      "needs_background": "light"
     },
     "output_type": "display_data"
    },
    {
     "data": {
      "image/png": "[encoded data removed]",
      "text/plain": [
       "<Figure size 864x432 with 1 Axes>"
      ]
     },
     "metadata": {
      "needs_background": "light"
     },
     "output_type": "display_data"
    }
   ],
   "source": [
    "# Plot histogram of offline basket timings\n",
    "plt.figure(figsize=(12, 6))\n",
    "plt.hist(offline_basket_timing_hour, bins=24, alpha=0.5, color='blue', label='Offline Transactions')\n",
    "plt.xlabel('Hour of the Day')\n",
    "plt.ylabel('Number of Baskets')\n",
    "plt.title('Distribution of Offline Basket Timings')\n",
    "plt.legend()\n",
    "plt.show()\n",
    "\n",
    "# Plot histogram of online basket timings\n",
    "plt.figure(figsize=(12, 6))\n",
    "plt.hist(online_basket_timing_hour, bins=24, alpha=0.5, color='green', label='Online Transactions')\n",
    "plt.xlabel('Hour of the Day')\n",
    "plt.ylabel('Number of Baskets')\n",
    "plt.title('Distribution of Online Basket Timings')\n",
    "plt.legend()\n",
    "plt.show()"
   ]
  },
  {
   "cell_type": "markdown",
   "metadata": {},
   "source": [
    "**Analysis based on Task C**\n",
    "* Popular timing for offline transactions is around 12 to 20, while popular timing for online transactions is around 9 to 19. The peak hour for offline transactions is around 17 to 19, while the peak hour for offline transactions is around 15 to 16.\n",
    "* The results suggest that the popular time for offline transactions is around dinner time, while that of online transactions is in the afternoon. "
   ]
  },
  {
   "cell_type": "markdown",
   "metadata": {},
   "source": [
    "**Other potential aspects to analyse**\n",
    "* **Weekday vs. Weekend:** Compare the histograms for weekdays and weekends separately. Determine if there are differences in transaction timings between weekdays (Monday to Friday) and weekends (Saturday and Sunday).\n",
    "* **Seasonal Trends:** Consider analyzing the histograms over longer time periods (e.g., months or seasons) to identify seasonal trends or variations in transaction timings. While this may not have a major impact on consumer behaviours in tropical countries like Singapore, analysis can be conducted for various public holidays and discount seasons, like Black Friday. "
   ]
  }
 ],
 "metadata": {
  "kernelspec": {
   "display_name": "Python 3",
   "language": "python",
   "name": "python3"
  },
  "language_info": {
   "codemirror_mode": {
    "name": "ipython",
    "version": 3
   },
   "file_extension": ".py",
   "mimetype": "text/x-python",
   "name": "python",
   "nbconvert_exporter": "python",
   "pygments_lexer": "ipython3",
   "version": "3.7.6"
  }
 },
 "nbformat": 4,
 "nbformat_minor": 4
}
